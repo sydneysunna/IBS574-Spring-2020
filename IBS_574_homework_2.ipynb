{
 "cells": [
  {
   "cell_type": "markdown",
   "metadata": {},
   "source": [
    "# IBS 574 Python Homework 2"
   ]
  },
  {
   "cell_type": "code",
   "execution_count": null,
   "metadata": {},
   "outputs": [],
   "source": [
    "%reload_ext watermark\n",
    "%watermark -a \"Sydney Sunna\" -d -t"
   ]
  },
  {
   "cell_type": "code",
   "execution_count": 6,
   "metadata": {},
   "outputs": [],
   "source": [
    "import pandas as pd\n",
    "import numpy as np\n",
    "from sinfo import sinfo\n",
    "from sklearn.decomposition import PCA\n",
    "from sklearn import preprocessing\n",
    "from sklearn.preprocessing import StandardScaler\n",
    "import seaborn as sns"
   ]
  },
  {
   "cell_type": "code",
   "execution_count": 7,
   "metadata": {},
   "outputs": [],
   "source": [
    "countdata = \"https://raw.githubusercontent.com/jessmrandall/IBS574Spring2020/master/data/countdata.csv\"\n",
    "counts = pd.read_csv(countdata, index_col = 0, sep = \"\\t\")"
   ]
  },
  {
   "cell_type": "code",
   "execution_count": 8,
   "metadata": {},
   "outputs": [
    {
     "data": {
      "text/plain": [
       "True"
      ]
     },
     "execution_count": 8,
     "metadata": {},
     "output_type": "execute_result"
    }
   ],
   "source": [
    "counts_transpose = counts.T\n",
    "len(counts_transpose) == 14"
   ]
  },
  {
   "cell_type": "code",
   "execution_count": 9,
   "metadata": {},
   "outputs": [],
   "source": [
    "group = ['Control', 'Control', 'Control', 'Control', 'Control', 'Control', 'Control', 'Case', 'Case', 'Case', 'Case', 'Case', 'Case', 'Case']\n",
    "counts_transpose['group'] = group"
   ]
  },
  {
   "cell_type": "code",
   "execution_count": 13,
   "metadata": {},
   "outputs": [],
   "source": [
    "features = pd.Series(counts_transpose.columns)[0:14944]\n",
    "feature_arr = counts_transpose.loc[:, features].values\n",
    "target_arr = counts_transpose.loc[:, ['group']].values\n",
    "fitted_features = StandardScaler().fit_transform(feature_arr)"
   ]
  },
  {
   "cell_type": "code",
   "execution_count": 15,
   "metadata": {},
   "outputs": [],
   "source": [
    "pca = PCA(n_components=2)\n",
    "principalComponents = pca.fit_transform(fitted_features)\n",
    "principalDataframe = pd.DataFrame(data = principalComponents, columns = ['PC1','PC2'])\n",
    "principalDataframe.index = counts_transpose.index\n",
    "targetDataframe = counts_transpose[['group']]\n",
    "newDataframe = pd.concat([principalDataframe, targetDataframe],axis = 1)"
   ]
  },
  {
   "cell_type": "code",
   "execution_count": 17,
   "metadata": {},
   "outputs": [
    {
     "data": {
      "text/plain": [
       "False"
      ]
     },
     "execution_count": 17,
     "metadata": {},
     "output_type": "execute_result"
    }
   ],
   "source": [
    "principalDataframe[\"PC1\"].max() == 126.5781511374741"
   ]
  },
  {
   "cell_type": "code",
   "execution_count": 18,
   "metadata": {},
   "outputs": [
    {
     "name": "stdout",
     "output_type": "stream",
     "text": [
      "-----\n",
      "numpy       1.18.1\n",
      "pandas      1.0.0\n",
      "seaborn     0.10.0\n",
      "sinfo       0.3.1\n",
      "sklearn     0.22.1\n",
      "-----\n",
      "IPython             7.12.0\n",
      "jupyter_client      5.3.4\n",
      "jupyter_core        4.6.1\n",
      "jupyterlab          1.2.6\n",
      "notebook            6.0.3\n",
      "-----\n",
      "Python 3.8.1 (default, Jan  8 2020, 15:55:49) [MSC v.1916 64 bit (AMD64)]\n",
      "Windows-10-10.0.18362-SP0\n",
      "8 logical CPU cores, Intel64 Family 6 Model 142 Stepping 12, GenuineIntel\n",
      "-----\n",
      "Session information updated at 2020-02-08 22:27\n"
     ]
    }
   ],
   "source": [
    "sinfo()"
   ]
  }
 ],
 "metadata": {
  "kernelspec": {
   "display_name": "Python 3",
   "language": "python",
   "name": "python3"
  },
  "language_info": {
   "codemirror_mode": {
    "name": "ipython",
    "version": 3
   },
   "file_extension": ".py",
   "mimetype": "text/x-python",
   "name": "python",
   "nbconvert_exporter": "python",
   "pygments_lexer": "ipython3",
   "version": "3.8.1"
  }
 },
 "nbformat": 4,
 "nbformat_minor": 4
}
